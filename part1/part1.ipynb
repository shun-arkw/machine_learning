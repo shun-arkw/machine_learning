{
  "cells": [
    {
      "cell_type": "markdown",
      "source": [
        "# 準備"
      ],
      "metadata": {
        "id": "mFZLkThuoORt"
      }
    },
    {
      "cell_type": "code",
      "execution_count": null,
      "metadata": {
        "id": "XEunhe34RByS",
        "colab": {
          "base_uri": "https://localhost:8080/"
        },
        "outputId": "44a04d89-3ad7-42c6-a890-55073154dad7"
      },
      "outputs": [
        {
          "output_type": "stream",
          "name": "stdout",
          "text": [
            "Mounted at /content/drive/\n",
            "/content/drive/MyDrive/Colab Notebooks/JKJ1A\n",
            "\u001b[0m\u001b[01;34mcsv\u001b[0m/  \u001b[01;34mdata\u001b[0m/  \u001b[01;34mgraph\u001b[0m/  LICENSE  \u001b[01;34mmodel\u001b[0m/  \u001b[01;34mnotebook\u001b[0m/  README.md  \u001b[01;34msrc\u001b[0m/\n"
          ]
        }
      ],
      "source": [
        "# Google Driveのマウント\n",
        "from google.colab import drive\n",
        "drive.mount('/content/drive/')\n",
        "\n",
        "# 目的の場所（フォルダ・ディレクトリ）へ移動（各自の環境で適宜修正）\n",
        "%cd \"/content/drive/MyDrive/Colab Notebooks/JKJ1A/\"\n",
        "%ls"
      ]
    },
    {
      "cell_type": "markdown",
      "source": [
        "# 画像分類問題\n",
        "\n",
        "　画像分類問題とは，機械に大量の画像を入力し学習させて，画像を正しいカテゴリーに分類することである.画像分類は，データセット，モデル，最適化という三つの要素で成り立っている."
      ],
      "metadata": {
        "id": "iNTVFEVsJN1D"
      }
    },
    {
      "cell_type": "markdown",
      "source": [
        "# データセット\n",
        "\n",
        "　データセットとは，機械学習をするために必要なデータの集合体である.今回の画像分類実験では，画像と\n",
        "ラベルの対を指す.画像データをモデルに入力し，出力としてその画像の予想ラベルを得る.その予想ラベル と実際のラベルを比較し，モデルの最適化を行い学習していく.データセットは訓練用，テスト用の二つに分 かれており，前者を用いてモデルの学習をし，後者のデータセットを代入することでモデルの分類精度を調べ る.また実験では効率化のために，データセットをバッチサイズに従い，サブセットに分割する.バッチサイズとは一度に処理する画像の枚数である.具体的には CIFAR10 や FashionMNIST といったデータセットが存在する.\n",
        "\n",
        "\n",
        "\n",
        "\n",
        "\n",
        "\n"
      ],
      "metadata": {
        "id": "sR90kkovJU45"
      }
    },
    {
      "cell_type": "markdown",
      "source": [
        "### CIFAR10 データセット\n",
        "\n",
        "　CIFAR10 データセットでは 物体カラー写真と，airplane，automobile，bird，cat，deer，dog，frog，horse，ship，truck という 10 種 のラベルが対となる.各画像のフォーマットは 24bit の RGB フルカラー画像であり，幅 32× 高さ 32 ピクセ ル.画像データ x は三次元テンソル，ラベル y は 10 次元ベクトルで構成されている."
      ],
      "metadata": {
        "id": "339AkAFxKEHK"
      }
    },
    {
      "cell_type": "markdown",
      "source": [
        "### FashionMNIST\n",
        "\n",
        "　FashionMNIST では，ファッション商品の写真と，T-shirt/top，Trouser，Pullover，Dress，Coat，Sandal， Shirt，Sneaker，Bag，Ankle boot という 10 種のラベルをデータセットとして持つ.画像は，8bit のグレー スケール (モノクロ) であり，幅 28× 高さ 28 フィールドとなっている.画像データ x は二次元行列，ラベル y は 10 次元ベクトルで構成されている．"
      ],
      "metadata": {
        "id": "OctZ6PpYKcKc"
      }
    },
    {
      "cell_type": "markdown",
      "source": [
        "# モデル\n",
        "\n",
        "モデルは入力層，中間層，出力層で構成されているネットワークである.モデルの中間層やパラメータを増\n",
        "加することで，画像の分類精度を上げていく."
      ],
      "metadata": {
        "id": "AwuKHoznK6Oq"
      }
    },
    {
      "cell_type": "markdown",
      "source": [
        "# 最適化\n",
        "\n",
        "ロス関数 l(y', y) とは，予測ラベル y' とラベル y の誤差を求める関数である.そこから出力される誤差が小\n",
        "さくなるように，勾配降下法を用いてパラメータ θ を調整していく.調整を繰り返すことでモデルを学習させ，最適化を行う."
      ],
      "metadata": {
        "id": "Jek5EufLLVbC"
      }
    },
    {
      "cell_type": "markdown",
      "metadata": {
        "id": "mKE7C-A1oUc3"
      },
      "source": [
        "# 課題１\n",
        "\n",
        "`train_cifar10.py`を作成せよ．`src`に補助用のテンプレートがあるのでそれを完成させよ．\n",
        "\n",
        "- `lenet.py`にはネットワークの定義を書く\n",
        "- `cifar10.py`には`load_data()`の定義を書く\n",
        "- `train_cifar10.py`にはネットワークの訓練を書く\n",
        "その際，\n",
        "- 実験時間では学習データ数を制限したが，全てのデータを利用して学習せよ\n",
        "```\n",
        "trainloader, testloader, classes = load_data(batch_size, use_all=True)\n",
        "```\n",
        "の`use_all=True`のようにすれば良い．\n",
        "\n",
        "作成した.pyファイルを以下のように実行せよ．"
      ]
    },
    {
      "cell_type": "code",
      "execution_count": null,
      "metadata": {
        "id": "XOaSl6ruZccP",
        "colab": {
          "base_uri": "https://localhost:8080/"
        },
        "outputId": "c1cfd394-43cd-4c70-b2e6-bce42fc54dde"
      },
      "outputs": [
        {
          "output_type": "stream",
          "name": "stdout",
          "text": [
            "using device: cuda:0\n",
            "Files already downloaded and verified\n",
            "Files already downloaded and verified\n",
            "[epoch  1] loss: 2.217\n",
            "[epoch  2] loss: 1.808\n",
            "Training completed\n",
            "train acc = 0.380\n",
            " test acc = 0.382\n",
            "CPU times: user 221 ms, sys: 26.1 ms, total: 247 ms\n",
            "Wall time: 37.8 s\n"
          ]
        }
      ],
      "source": [
        "%%time\n",
        "!python src/ex1/1_1/train_cifar10.py --nepochs 2 --batch_size 128 --lr 0.01 --save_model_name 'model/model_cifar10_lenet.pth'"
      ]
    },
    {
      "cell_type": "markdown",
      "metadata": {
        "id": "XOG36_AE0p9f"
      },
      "source": [
        "学習したモデルをロードし，訓練データ，テストデータでの精度を計算・表示せよ．\n",
        "\n",
        "上のコードで学習後に出る精度と一致することを確認せよ．"
      ]
    },
    {
      "cell_type": "code",
      "execution_count": null,
      "metadata": {
        "id": "50rMDWPHpMEK",
        "colab": {
          "base_uri": "https://localhost:8080/"
        },
        "outputId": "eabfad6a-28c9-43de-c5c5-b3f1c2c3605d"
      },
      "outputs": [
        {
          "output_type": "execute_result",
          "data": {
            "text/plain": [
              "<All keys matched successfully>"
            ]
          },
          "metadata": {},
          "execution_count": 20
        }
      ],
      "source": [
        "# `model_cifar10_day1.pth`をロードしてください．\n",
        "\n",
        "import torch\n",
        "import sys\n",
        "sys.path.append('/content/drive/MyDrive/Colab Notebooks/JKJ1A/src/ex1/1_1')  # srcの中のファイルがimportできるようになる\n",
        "\n",
        "from lenet import Net\n",
        "\n",
        "net = Net() #新しいネットワークをつくる\n",
        "net.cuda()   #ネットワークをgpuに送る\n",
        "\n",
        "#torch.load()を用いることで，先ほど学習したネットワークのパラメータを読み込む\n",
        "state_dict = torch.load('model/model_cifar10_lenet.pth')\n",
        "\n",
        "#load_state_dict()を利用して，新しいネットワークにパラメータを読み込む\n",
        "net.load_state_dict(state_dict)\n",
        "\n"
      ]
    },
    {
      "cell_type": "code",
      "execution_count": null,
      "metadata": {
        "id": "snAOvqvRpSoU",
        "colab": {
          "base_uri": "https://localhost:8080/"
        },
        "outputId": "5c6b95e6-4fde-4247-aa60-6c7cf9c9f662"
      },
      "outputs": [
        {
          "output_type": "stream",
          "name": "stdout",
          "text": [
            "Files already downloaded and verified\n",
            "Files already downloaded and verified\n",
            "train acc = 0.380\n",
            "test acc = 0.382\n"
          ]
        }
      ],
      "source": [
        "# test()関数で訓練データ・テストデータでの分類精度を計算・表示してください\n",
        "#import sys\n",
        "#sys.path.append('/content/drive/MyDrive/Colab Notebooks/JKJ1A/src')  # srcの中のファイルがimportできるようになる\n",
        "\n",
        "from train_cifar10 import test\n",
        "from cifar10 import load_data\n",
        "\n",
        "trainloader, testloader, labels = load_data(128, use_all=True)\n",
        "train_acc = test(net, trainloader)\n",
        "test_acc  = test(net, testloader)\n",
        "print(f'train acc = {train_acc:.3f}')  # ':.3f'とつけると小数点以下3桁までの表示になる\n",
        "print(f'test acc = {test_acc:.3f}')"
      ]
    },
    {
      "cell_type": "markdown",
      "metadata": {
        "id": "98IInQX92Uzi"
      },
      "source": [
        "# 課題２\n",
        "**この課題の結果は次回の実験で利用するので必ず行うこと**\n",
        "\n",
        "\n",
        "VGG11モデルでCIFAR10を学習せよ．課題１のコードを次のように微修正すれば良い．\n",
        "\n",
        "- `from lenet import Net` --> `from vgg import VGG as Net`\n",
        "- `net = Net()` --> `net = Net('VGG11')`\n",
        "\n",
        "学習したモデルの分類精度を課題１の結果と比較せよ．学習したモデル名は`model_cifar10.pth`として`model/`下に保存せよ．テストデータでの分類精度は80%を超えるようにせよ（`nepochs`や`lr`を調整）．友人などと協力して，適当なパラメータを手分けして探すなどすると効率が良い．"
      ]
    },
    {
      "cell_type": "code",
      "execution_count": null,
      "metadata": {
        "id": "aIg_D-2A_YqT",
        "colab": {
          "base_uri": "https://localhost:8080/"
        },
        "outputId": "f7ad3820-d4da-47ed-aca2-47fc2f81c0a3"
      },
      "outputs": [
        {
          "output_type": "stream",
          "name": "stdout",
          "text": [
            "using device: cuda:0\n",
            "Files already downloaded and verified\n",
            "Files already downloaded and verified\n",
            "[epoch  1] loss: 2.205\n",
            "[epoch  2] loss: 1.452\n",
            "[epoch  3] loss: 1.044\n",
            "[epoch  4] loss: 0.824\n",
            "[epoch  5] loss: 0.681\n",
            "[epoch  6] loss: 0.561\n",
            "[epoch  7] loss: 0.480\n",
            "[epoch  8] loss: 0.397\n",
            "[epoch  9] loss: 0.327\n",
            "[epoch 10] loss: 0.268\n",
            "[epoch 11] loss: 0.212\n",
            "[epoch 12] loss: 0.170\n",
            "[epoch 13] loss: 0.141\n",
            "[epoch 14] loss: 0.110\n",
            "[epoch 15] loss: 0.095\n",
            "Training completed\n",
            "train acc = 0.959\n",
            " test acc = 0.801\n"
          ]
        }
      ],
      "source": [
        "!python src/ex1/1_2/train2_cifar10.py --nepochs 15 --batch_size 128 --lr 0.03 --save_model_name 'model/model_cifar10.pth'"
      ]
    },
    {
      "cell_type": "markdown",
      "metadata": {
        "id": "GshVN9jf1sLJ"
      },
      "source": [
        "# 課題３\n",
        "\n",
        "CIFAR10ではなくFashionMNISTを学習し，学習のログと分類精度を表示せよ（コードは`train_fmnist.py`とする）．\n"
      ]
    },
    {
      "cell_type": "markdown",
      "metadata": {
        "id": "WGx6qp9s1xJM"
      },
      "source": [
        "まず学習の前に，FashionMNISTがどのようなデータを含むか，何枚か画像とラベルを表示させてみよ（`Day1-CIFAR10-classification.ipynb`内のコードを参考にせよ）"
      ]
    },
    {
      "cell_type": "code",
      "source": [
        "!pwd"
      ],
      "metadata": {
        "colab": {
          "base_uri": "https://localhost:8080/"
        },
        "id": "pcNJPGGPqum_",
        "outputId": "a1c98d4a-cc09-495b-fa45-0fe6bd616850"
      },
      "execution_count": null,
      "outputs": [
        {
          "output_type": "stream",
          "name": "stdout",
          "text": [
            "/content/drive/MyDrive/Colab Notebooks/JKJ1A\n"
          ]
        }
      ]
    },
    {
      "cell_type": "code",
      "execution_count": null,
      "metadata": {
        "id": "p8JM88PB1sw4",
        "colab": {
          "base_uri": "https://localhost:8080/",
          "height": 173
        },
        "outputId": "cb0f57bd-cf21-42db-bb12-e7d7b25dd292"
      },
      "outputs": [
        {
          "output_type": "stream",
          "name": "stderr",
          "text": [
            "WARNING:matplotlib.image:Clipping input data to the valid range for imshow with RGB data ([0..1] for floats or [0..255] for integers).\n"
          ]
        },
        {
          "output_type": "display_data",
          "data": {
            "text/plain": [
              "<Figure size 432x288 with 1 Axes>"
            ],
            "image/png": "[encoded data removed]"
          },
          "metadata": {
            "needs_background": "light"
          }
        },
        {
          "output_type": "stream",
          "name": "stdout",
          "text": [
            "Ankle boot T-shirt/top Sandal Sandal  Coat Dress Pullover Sandal  Coat\n"
          ]
        }
      ],
      "source": [
        "# FashionMNISTの画像を何枚か表示\n",
        "\n",
        "import torch\n",
        "import torchvision\n",
        "import torchvision.transforms as transforms\n",
        "from torchvision.datasets import FashionMNIST\n",
        "from torch.utils.data import random_split, DataLoader, Subset\n",
        "\n",
        "import warnings\n",
        "warnings.filterwarnings(\"ignore\")  # warningを表示しない\n",
        "\n",
        "import matplotlib.pyplot as plt\n",
        "import numpy as np\n",
        "\n",
        "def load_data(batch_size, n_train=15000, n_test=2500, use_all=False):\n",
        "\n",
        "    # クラスのラベル名\n",
        "    classes = ('T-shirt/top', 'Trouser', 'Pullover', 'Dress',\n",
        "            'Coat', 'Sandal', 'Shirt', 'Sneaker', 'Bag', 'Ankle boot')\n",
        "\n",
        "    ## 前処理関数の準備\n",
        "    transform = transforms.Compose(\n",
        "        [transforms.ToTensor(),\n",
        "        transforms.Normalize((0.5,),(0.5,))]\n",
        "        )\n",
        "\n",
        "    # CIFAR10の準備（ローカルにデータがない場合はダウンロードされる）\n",
        "    # 訓練用データセット\n",
        "    trainset = FashionMNIST(root='./data', train=True, download=True, transform=transform)\n",
        "    # 評価用データセット\n",
        "    testset = FashionMNIST(root='./data', train=False, download=True, transform=transform)\n",
        "\n",
        "\n",
        "\n",
        "\n",
        "\n",
        "    # !ミニバッチに小分けしておく．これを後で使う\n",
        "    trainloader = DataLoader(trainset, batch_size=batch_size, shuffle=True, num_workers=2)\n",
        "    # !ミニバッチに小分けしておく．これを後で使う\n",
        "    testloader = DataLoader(testset, batch_size=batch_size, shuffle=False, num_workers=2)\n",
        "\n",
        "    return (trainloader, testloader, classes)\n",
        "\n",
        "trainloader, testloader, classes = load_data(9)\n",
        "\n",
        "# trainloaderからミニバッチを一つ取り出す\n",
        "dataiter = iter(trainloader)\n",
        "images, labels = next(dataiter)  # ミニバッチを一つ取り出す\n",
        "\n",
        "# !!画像を表示するための関数\n",
        "def imshow(img):\n",
        "    npimg = img.numpy()\n",
        "    plt.imshow(np.transpose(npimg, (1, 2, 0)))\n",
        "    plt.show()\n",
        "\n",
        "# 画像の表示\n",
        "imshow(torchvision.utils.make_grid(images))\n",
        "# ラベルのプリント\n",
        "print(' '.join('%5s' % classes[labels[j]] for j in range(images.shape[0])))"
      ]
    },
    {
      "cell_type": "code",
      "source": [
        "%ls"
      ],
      "metadata": {
        "colab": {
          "base_uri": "https://localhost:8080/"
        },
        "id": "0tJOyWWDzBjD",
        "outputId": "8d181218-a467-4094-cb6d-4464c009e565"
      },
      "execution_count": null,
      "outputs": [
        {
          "output_type": "stream",
          "name": "stdout",
          "text": [
            "\u001b[0m\u001b[01;34mdata\u001b[0m/  LICENSE  \u001b[01;34mmodel\u001b[0m/  \u001b[01;34mnotebook\u001b[0m/  README.md  \u001b[01;34msrc\u001b[0m/\n"
          ]
        }
      ]
    },
    {
      "cell_type": "code",
      "source": [
        "from src.ex1.1_3.fmnist import load_data\n",
        "\n",
        "# trainloaderからミニバッチを一つ取り出す\n",
        "dataiter = iter(trainloader)\n",
        "images, labels = next(dataiter)  # ミニバッチを一つ取り出す\n",
        "\n",
        "# !!画像を表示するための関数\n",
        "def imshow(img):\n",
        "    npimg = img.numpy()\n",
        "    plt.imshow(np.transpose(npimg, (1, 2, 0)))\n",
        "    plt.show()\n",
        "\n",
        "# 画像の表示\n",
        "imshow(torchvision.utils.make_grid(images))\n",
        "# ラベルのプリント\n",
        "print(' '.join('%5s' % classes[labels[j]] for j in range(images.shape[0])))"
      ],
      "metadata": {
        "colab": {
          "base_uri": "https://localhost:8080/",
          "height": 137
        },
        "id": "FJS9S4nYrUE-",
        "outputId": "e32d741f-5da1-4287-c074-a1c348362456"
      },
      "execution_count": null,
      "outputs": [
        {
          "output_type": "error",
          "ename": "SyntaxError",
          "evalue": "ignored",
          "traceback": [
            "\u001b[0;36m  File \u001b[0;32m\"<ipython-input-19-597fa2f824e1>\"\u001b[0;36m, line \u001b[0;32m1\u001b[0m\n\u001b[0;31m    from src.ex1.1_3.fmnist import load_data\u001b[0m\n\u001b[0m                ^\u001b[0m\n\u001b[0;31mSyntaxError\u001b[0m\u001b[0;31m:\u001b[0m invalid syntax\n"
          ]
        }
      ]
    },
    {
      "cell_type": "markdown",
      "metadata": {
        "id": "8d6EhNKq3g8c"
      },
      "source": [
        "さて，学習のための作業の方針は次のようになる．課題１の`load_data()`を修正し，`fmnist.py`を作る．\n",
        "\n",
        "- `load_data()`の`transform`を以下のようにする\n",
        "```\n",
        "    transform = transforms.Compose(\n",
        "        [transforms.ToTensor(),\n",
        "        transforms.Normalize((0.5,), (0.5,))]\n",
        "        )\n",
        "```\n",
        "\n",
        "- `torchvision.datasets.CIFAR10`と`classes`も修正する（ほぼ自明な修正．わからなければ少し検索してみよ）．\n",
        "\n",
        "またモデルは次のモデルを利用せよ（これは`mlp.py`として保存されている．train_fmnist.py内で読み込むこと）．\n",
        "```\n",
        "import torch.nn as nn\n",
        "import torch.nn.functional as F\n",
        "\n",
        "class Net(nn.Module):\n",
        "    def __init__(self):   \n",
        "        super().__init__()\n",
        "        self.width = 128\n",
        "        self.fc1 = nn.Linear(28*28, self.width)  # 入力28*28次元, 出力128次元\n",
        "        self.fc2 = nn.Linear(self.width, self.width)\n",
        "        self.fc3 = nn.Linear(self.width, 10)\n",
        "\n",
        "    def forward(self, x):\n",
        "        x = x.view(-1, 28*28)\n",
        "        x = F.relu(self.fc1(x))\n",
        "        x = F.relu(self.fc2(x))\n",
        "        x = self.fc3(x)\n",
        "        return x\n",
        "\n",
        "```"
      ]
    },
    {
      "cell_type": "code",
      "execution_count": null,
      "metadata": {
        "id": "WnKiDZ56_aGU",
        "colab": {
          "base_uri": "https://localhost:8080/"
        },
        "outputId": "84235925-55c9-487a-ed19-9e57d6df1cbf"
      },
      "outputs": [
        {
          "output_type": "stream",
          "name": "stdout",
          "text": [
            "using device: cuda:0\n",
            "[epoch  1] loss: 0.660\n",
            "[epoch  2] loss: 0.422\n",
            "Training completed\n",
            "train acc = 0.859\n",
            " test acc = 0.846\n",
            "CPU times: user 286 ms, sys: 62.2 ms, total: 348 ms\n",
            "Wall time: 53.6 s\n"
          ]
        }
      ],
      "source": [
        "%%time\n",
        "#以下を実行できれば良い．\n",
        "!python src/ex1/1_3/train_fmnist.py --nepochs 2 --batch_size 128 --lr 0.01 --save_model_name 'model/model_fmnist_mlp.pth'"
      ]
    },
    {
      "cell_type": "code",
      "execution_count": null,
      "metadata": {
        "id": "JrPP2Na_1j3J"
      },
      "outputs": [],
      "source": []
    },
    {
      "cell_type": "markdown",
      "metadata": {
        "id": "cMQXCxMH62fu"
      },
      "source": [
        "# 課題4\n",
        "\n",
        "\n",
        "\n",
        "モデルの表現力は学習可能なパラメタ数と関係がある．直感的には，学習可能なパラメタ数が多いほど複雑な関数を表現でき，難しい問題が解けると考えられる．次の課題に取り組め．\n",
        "\n",
        "1. レイヤー数（`nn.Linear`の数）を固定した時，各中間層のユニット数（`self.width`の値）の変化に対し，学習結果はどのようになるだろうか．\n",
        "2. 逆に，各中間層のユニット数を固定した時，レイヤー数を変化させると学習結果はどのようになるだろうか．\n",
        "3. 深いネットワーク（レイヤー数が多いネットワーク）と広いネットワーク（各レイヤーのユニット数が多い），どちらが良いだろうか．（ほぼ）同じパラメタ数の場合で比較せよ．\n",
        "\n",
        "文献調査を行い，どのような傾向があるか知った上でそれを再現しても良い．その場合は参考文献を示すこと．\n",
        "\n",
        "---\n",
        "\n",
        "*補足（1に関して）：課題3の`mlp.py`に定義したモデルに関して，ネットワークの幅`self.width`を何パターンか変化させ，FashionMNIST学習後の分類精度をプロットする（横軸`width`, 縦軸は分類精度）．*\n",
        "\n",
        "*補足（2に関して）：課題3の`mlp.py`を参考に異なるレイヤー数のモデルを定義することになる．*\n",
        "\n",
        "*補足（3に関して）：\n",
        "`nn.Linear`は全結合層と呼ばれ，入力$x$に対し変換$Wx+b$を行い$z$を出力する（$W,b$は学習されるパラメタ）．$x,z$がそれぞれ$n,m$次元ベクトルの場合，全結合層一つ当たりのパラメタ数が$n,m$で表現できると思う．「同じパラメタ数」という条件が何を意味するのかよく考えること．*\n",
        "\n",
        "*補足：\n",
        "`plt.show()`の一つ前で`plt.savefig('画像名.pdf')`とすると，画像を保存できる．*\n",
        "\n",
        "```\n",
        "import matplotlib.pyplot as plt\n",
        "\n",
        "parameters = ...\n",
        "accs = ...\n",
        "\n",
        "plt.plot(parameters, accs)  # x軸がparameters, 縦軸がaccs\n",
        "plt.savefig('result.pdf')\n",
        "plt.show()\n",
        "```"
      ]
    },
    {
      "cell_type": "code",
      "execution_count": null,
      "metadata": {
        "id": "KvEEGD8Q-l15",
        "colab": {
          "base_uri": "https://localhost:8080/"
        },
        "outputId": "a81f4442-aadc-4751-b832-ecb8de42761e"
      },
      "outputs": [
        {
          "output_type": "stream",
          "name": "stdout",
          "text": [
            "using device: cuda:0\n",
            "[epoch  1] loss: 0.540\n",
            "[epoch  2] loss: 0.371\n",
            "[epoch  3] loss: 0.330\n",
            "[epoch  4] loss: 0.304\n",
            "[epoch  5] loss: 0.278\n",
            "[epoch  6] loss: 0.259\n",
            "[epoch  7] loss: 0.243\n",
            "[epoch  8] loss: 0.230\n",
            "[epoch  9] loss: 0.216\n",
            "[epoch 10] loss: 0.200\n",
            "Training completed\n",
            "train acc = 0.931\n",
            " test acc = 0.884\n",
            "[epoch  1] loss: 0.513\n",
            "[epoch  2] loss: 0.359\n",
            "[epoch  3] loss: 0.314\n",
            "[epoch  4] loss: 0.283\n",
            "[epoch  5] loss: 0.261\n",
            "[epoch  6] loss: 0.243\n",
            "[epoch  7] loss: 0.224\n",
            "[epoch  8] loss: 0.204\n",
            "[epoch  9] loss: 0.191\n",
            "[epoch 10] loss: 0.175\n",
            "Training completed\n",
            "train acc = 0.944\n",
            " test acc = 0.892\n",
            "[epoch  1] loss: 0.502\n",
            "[epoch  2] loss: 0.349\n",
            "[epoch  3] loss: 0.305\n",
            "[epoch  4] loss: 0.276\n",
            "[epoch  5] loss: 0.248\n",
            "[epoch  6] loss: 0.227\n",
            "[epoch  7] loss: 0.212\n",
            "[epoch  8] loss: 0.189\n",
            "[epoch  9] loss: 0.173\n",
            "[epoch 10] loss: 0.159\n",
            "Training completed\n",
            "train acc = 0.951\n",
            " test acc = 0.888\n",
            "tcmalloc: large alloc 1600004096 bytes == 0x77436000 @  0x7fd4c08efb6b 0x7fd4c090f379 0x7fd446e10935 0x7fd446dee093 0x7fd473ebb53f 0x7fd473ebc360 0x7fd473ebc3b4 0x7fd47455d40f 0x7fd474fac64b 0x7fd474c6cf47 0x7fd474f7f26f 0x7fd474cade22 0x7fd49ca5ff48 0x5d80be 0x56305c 0x55d078 0x5d8941 0x5da092 0x586de6 0x5d8cdf 0x561f80 0x55d078 0x5d8941 0x5da092 0x586de6 0x5d8cdf 0x55dc1e 0x5d8868 0x4990ca 0x55cd91 0x55d743\n",
            "[epoch  1] loss: 0.493\n",
            "[epoch  2] loss: 0.346\n",
            "[epoch  3] loss: 0.301\n",
            "[epoch  4] loss: 0.268\n",
            "[epoch  5] loss: 0.243\n",
            "[epoch  6] loss: 0.221\n",
            "[epoch  7] loss: 0.200\n",
            "[epoch  8] loss: 0.178\n",
            "[epoch  9] loss: 0.163\n",
            "[epoch 10] loss: 0.146\n",
            "Training completed\n",
            "train acc = 0.948\n",
            " test acc = 0.888\n",
            "CPU times: user 7.29 s, sys: 1.08 s, total: 8.38 s\n",
            "Wall time: 25min 1s\n"
          ]
        }
      ],
      "source": [
        "#課題4-1\n",
        "#layerNum = 1, width = 32, 64, 128, 256, 512, 1024, 2048, 5000, 10000\n",
        "%%time\n",
        "#以下を実行できれば良い．\n",
        "!python src/ex1/1_4/change_width.py --nepochs 10 --batch_size 128 --lr 0.01 --save_csv_name 'csv/fmnist_change_width.csv'"
      ]
    },
    {
      "cell_type": "code",
      "source": [
        "#課題4-2\n",
        "#layerNum = 1,3,5,7,9,11 width = 128\n",
        "%%time\n",
        "#以下を実行できれば良い．\n",
        "!python src/ex1/1_4/change_layer.py --nepochs 10 --batch_size 128 --lr 0.01 --save_csv_name 'csv/fmnist_change_layer.csv'"
      ],
      "metadata": {
        "colab": {
          "base_uri": "https://localhost:8080/"
        },
        "id": "TguGNgJ7aOHS",
        "outputId": "4bdcd498-a01d-436a-81fe-65ae2debe7cc"
      },
      "execution_count": null,
      "outputs": [
        {
          "output_type": "stream",
          "name": "stdout",
          "text": [
            "using device: cuda:0\n",
            "[epoch  1] loss: 0.678\n",
            "[epoch  2] loss: 0.425\n",
            "[epoch  3] loss: 0.381\n",
            "[epoch  4] loss: 0.356\n",
            "[epoch  5] loss: 0.331\n",
            "[epoch  6] loss: 0.318\n",
            "[epoch  7] loss: 0.302\n",
            "[epoch  8] loss: 0.292\n",
            "[epoch  9] loss: 0.282\n",
            "[epoch 10] loss: 0.272\n",
            "Training completed\n",
            "train acc = 0.907\n",
            " test acc = 0.877\n",
            "[epoch  1] loss: 1.154\n",
            "[epoch  2] loss: 0.504\n",
            "[epoch  3] loss: 0.439\n",
            "[epoch  4] loss: 0.402\n",
            "[epoch  5] loss: 0.379\n",
            "[epoch  6] loss: 0.363\n",
            "[epoch  7] loss: 0.346\n",
            "[epoch  8] loss: 0.332\n",
            "[epoch  9] loss: 0.325\n",
            "[epoch 10] loss: 0.314\n",
            "Training completed\n",
            "train acc = 0.881\n",
            " test acc = 0.864\n",
            "[epoch  1] loss: 2.286\n",
            "[epoch  2] loss: 1.586\n",
            "[epoch  3] loss: 0.872\n",
            "[epoch  4] loss: 0.659\n",
            "[epoch  5] loss: 0.558\n",
            "[epoch  6] loss: 0.496\n",
            "[epoch  7] loss: 0.459\n",
            "[epoch  8] loss: 0.433\n",
            "[epoch  9] loss: 0.410\n",
            "[epoch 10] loss: 0.392\n",
            "Training completed\n",
            "train acc = 0.863\n",
            " test acc = 0.846\n",
            "[epoch  1] loss: 2.303\n",
            "[epoch  2] loss: 2.303\n",
            "[epoch  3] loss: 2.302\n",
            "[epoch  4] loss: 2.299\n",
            "[epoch  5] loss: 2.272\n",
            "[epoch  6] loss: 1.903\n",
            "[epoch  7] loss: 1.548\n",
            "[epoch  8] loss: 1.295\n",
            "[epoch  9] loss: 1.143\n",
            "[epoch 10] loss: 1.026\n",
            "Training completed\n",
            "train acc = 0.640\n",
            " test acc = 0.637\n",
            "[epoch  1] loss: 2.303\n",
            "[epoch  2] loss: 2.303\n",
            "[epoch  3] loss: 2.303\n",
            "[epoch  4] loss: 2.303\n",
            "[epoch  5] loss: 2.303\n",
            "[epoch  6] loss: 2.303\n",
            "[epoch  7] loss: 2.303\n",
            "[epoch  8] loss: 2.303\n",
            "[epoch  9] loss: 2.303\n",
            "[epoch 10] loss: 2.303\n",
            "Training completed\n",
            "train acc = 0.100\n",
            " test acc = 0.100\n",
            "[epoch  1] loss: 2.303\n",
            "[epoch  2] loss: 2.303\n",
            "[epoch  3] loss: 2.303\n",
            "[epoch  4] loss: 2.303\n",
            "[epoch  5] loss: 2.303\n",
            "[epoch  6] loss: 2.303\n",
            "[epoch  7] loss: 2.303\n",
            "[epoch  8] loss: 2.303\n",
            "[epoch  9] loss: 2.303\n",
            "[epoch 10] loss: 2.303\n",
            "Training completed\n",
            "train acc = 0.100\n",
            " test acc = 0.100\n",
            "CPU times: user 4.09 s, sys: 579 ms, total: 4.67 s\n",
            "Wall time: 11min 15s\n"
          ]
        }
      ]
    },
    {
      "cell_type": "code",
      "source": [
        "#課題4-3\n",
        "#広いモデル  レイヤー数1　 ユニット数i\n",
        "#深いモデル  レイヤー数6  ユニット数j\n",
        "\n",
        "for i in range(9000,10000):\n",
        "  para = 784 * i + i**2 + i * 10\n",
        "  for j in range(1,10000):\n",
        "    para2 = 784 * j + pow(j, 2) * 6 + j * 10\n",
        "    if abs(para - para2) <= 30:\n",
        "      print(i, j, para, para2)\n",
        "      break;\n"
      ],
      "metadata": {
        "colab": {
          "base_uri": "https://localhost:8080/"
        },
        "id": "Gdg28b1jil6V",
        "outputId": "2723010c-a2da-441f-c17e-88262ec59453"
      },
      "execution_count": null,
      "outputs": [
        {
          "output_type": "stream",
          "name": "stdout",
          "text": [
            "9599 4012 99762407 99762392\n",
            "9834 4108 104515752 104515736\n"
          ]
        }
      ]
    },
    {
      "cell_type": "code",
      "source": [
        "#課題4-3\n",
        "#広いモデル  レイヤー数1　 ユニット数9834\n",
        "#深いモデル  レイヤー数6  ユニット数4108\n",
        "\n",
        "%%time\n",
        "#以下を実行できれば良い．\n",
        "!python src/ex1/1_4/constant_para.py --nepochs 10 --batch_size 128 --lr 0.01 --save_csv_name 'csv/fmnist_conatant_para.csv'"
      ],
      "metadata": {
        "colab": {
          "base_uri": "https://localhost:8080/"
        },
        "id": "RxDpGlr4R6kv",
        "outputId": "9f1426bc-364b-4511-9947-6f36406e2058"
      },
      "execution_count": null,
      "outputs": [
        {
          "output_type": "stream",
          "name": "stdout",
          "text": [
            "using device: cuda:0\n",
            "[epoch  1] loss: 2.298\n",
            "[epoch  2] loss: 2.106\n",
            "[epoch  3] loss: 1.239\n",
            "[epoch  4] loss: 0.876\n",
            "[epoch  5] loss: 0.735\n",
            "[epoch  6] loss: 0.647\n",
            "[epoch  7] loss: 0.587\n",
            "[epoch  8] loss: 0.538\n",
            "[epoch  9] loss: 0.501\n",
            "[epoch 10] loss: 0.470\n",
            "Training completed\n",
            "train acc = 0.842\n",
            " test acc = 0.830\n",
            "[epoch  1] loss: 0.514\n",
            "[epoch  2] loss: 0.359\n",
            "[epoch  3] loss: 0.317\n",
            "[epoch  4] loss: 0.287\n",
            "[epoch  5] loss: 0.261\n",
            "[epoch  6] loss: 0.242\n",
            "[epoch  7] loss: 0.222\n",
            "[epoch  8] loss: 0.207\n",
            "[epoch  9] loss: 0.191\n",
            "[epoch 10] loss: 0.175\n",
            "Training completed\n",
            "train acc = 0.937\n",
            " test acc = 0.884\n",
            "CPU times: user 1.92 s, sys: 308 ms, total: 2.23 s\n",
            "Wall time: 6min 32s\n"
          ]
        }
      ]
    },
    {
      "cell_type": "code",
      "source": [
        "%%time\n",
        "#以下を実行できれば良い．\n",
        "!python src/ex1/1_4/constant_para2.py --nepochs 10 --batch_size 128 --lr 0.01 --save_csv_name 'csv/fmnist_conatant_para.csv'"
      ],
      "metadata": {
        "colab": {
          "base_uri": "https://localhost:8080/"
        },
        "id": "vD1aEggNF9l6",
        "outputId": "253dcdd8-086b-4f1c-b080-61c1c289903f"
      },
      "execution_count": null,
      "outputs": [
        {
          "output_type": "stream",
          "name": "stdout",
          "text": [
            "using device: cuda:0\n",
            "[epoch  1] loss: 1.558\n",
            "[epoch  2] loss: 0.529\n",
            "[epoch  3] loss: 0.392\n",
            "[epoch  4] loss: 0.338\n",
            "[epoch  5] loss: 0.298\n",
            "[epoch  6] loss: 0.268\n",
            "[epoch  7] loss: 0.245\n",
            "[epoch  8] loss: 0.224\n",
            "[epoch  9] loss: 0.207\n",
            "[epoch 10] loss: 0.181\n",
            "Training completed\n",
            "train acc = 0.932\n",
            " test acc = 0.870\n",
            "CPU times: user 1.1 s, sys: 159 ms, total: 1.26 s\n",
            "Wall time: 3min 35s\n"
          ]
        }
      ]
    },
    {
      "cell_type": "code",
      "source": [
        "#gpuの情報\n",
        "!nvidia-smi"
      ],
      "metadata": {
        "id": "x9Vo9f9YlE2j",
        "outputId": "5c463f9d-e1d6-4b24-85d6-d672ac429fdb",
        "colab": {
          "base_uri": "https://localhost:8080/"
        }
      },
      "execution_count": null,
      "outputs": [
        {
          "output_type": "stream",
          "name": "stdout",
          "text": [
            "Tue Jan  3 12:21:30 2023       \n",
            "+-----------------------------------------------------------------------------+\n",
            "| NVIDIA-SMI 460.32.03    Driver Version: 460.32.03    CUDA Version: 11.2     |\n",
            "|-------------------------------+----------------------+----------------------+\n",
            "| GPU  Name        Persistence-M| Bus-Id        Disp.A | Volatile Uncorr. ECC |\n",
            "| Fan  Temp  Perf  Pwr:Usage/Cap|         Memory-Usage | GPU-Util  Compute M. |\n",
            "|                               |                      |               MIG M. |\n",
            "|===============================+======================+======================|\n",
            "|   0  Tesla T4            Off  | 00000000:00:04.0 Off |                    0 |\n",
            "| N/A   47C    P0    25W /  70W |      0MiB / 15109MiB |      0%      Default |\n",
            "|                               |                      |                  N/A |\n",
            "+-------------------------------+----------------------+----------------------+\n",
            "                                                                               \n",
            "+-----------------------------------------------------------------------------+\n",
            "| Processes:                                                                  |\n",
            "|  GPU   GI   CI        PID   Type   Process name                  GPU Memory |\n",
            "|        ID   ID                                                   Usage      |\n",
            "|=============================================================================|\n",
            "|  No running processes found                                                 |\n",
            "+-----------------------------------------------------------------------------+\n"
          ]
        }
      ]
    }
  ],
  "metadata": {
    "accelerator": "GPU",
    "colab": {
      "provenance": [],
      "toc_visible": true
    },
    "kernelspec": {
      "display_name": "Python 3.8.10 64-bit",
      "language": "python",
      "name": "python3"
    },
    "language_info": {
      "name": "python",
      "version": "3.8.10"
    },
    "vscode": {
      "interpreter": {
        "hash": "31f2aee4e71d21fbe5cf8b01ff0e069b9275f58929596ceb00d14d90e3e16cd6"
      }
    },
    "gpuClass": "standard"
  },
  "nbformat": 4,
  "nbformat_minor": 0
}